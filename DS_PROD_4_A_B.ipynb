{
 "cells": [
  {
   "cell_type": "markdown",
   "metadata": {},
   "source": [
    "## 1. Анализ структуры данных и предобработка\n",
    "1.1 Исследование структуры данных"
   ]
  },
  {
   "cell_type": "code",
   "execution_count": 23,
   "metadata": {},
   "outputs": [
    {
     "name": "stdout",
     "output_type": "stream",
     "text": [
      "<class 'pandas.core.frame.DataFrame'>\n",
      "RangeIndex: 294478 entries, 0 to 294477\n",
      "Data columns (total 5 columns):\n",
      " #   Column    Non-Null Count   Dtype \n",
      "---  ------    --------------   ----- \n",
      " 0   user_id   294478 non-null  int64 \n",
      " 1   date      294478 non-null  object\n",
      " 2   group     294478 non-null  object\n",
      " 3   purchase  294478 non-null  int64 \n",
      " 4   price     294478 non-null  int64 \n",
      "dtypes: int64(3), object(2)\n",
      "memory usage: 11.2+ MB\n",
      "Количество полных дубликатов строк: 74\n",
      "Количество уникальных пользователей: 290584\n",
      "B    147276\n",
      "A    147202\n",
      "Name: group, dtype: int64\n"
     ]
    }
   ],
   "source": [
    "import pandas as pd\n",
    "import numpy as np\n",
    "import matplotlib.pyplot as plt\n",
    "import seaborn as sns\n",
    "from scipy.stats import shapiro, mannwhitneyu, ttest_ind\n",
    "from statsmodels.stats.proportion import proportions_ztest\n",
    "from scipy.stats import ttest_ind\n",
    "from math import sqrt\n",
    "from scipy.stats import t\n",
    "\n",
    "# Чтение данных\n",
    "data = pd.read_csv('ab_data_tourist.csv')\n",
    "\n",
    "# Изучаем структуру данных\n",
    "data.info()\n",
    "\n",
    "# Просмотр первых 5 строк\n",
    "data.head()\n",
    "\n",
    "# Проверим дубликаты по user_id и другим параметрам\n",
    "print(\"Количество полных дубликатов строк:\", data.duplicated().sum())\n",
    "\n",
    "# Количество уникальных пользователей\n",
    "print(\"Количество уникальных пользователей:\", data['user_id'].nunique())\n",
    "\n",
    "# Проверим распределение по группам\n",
    "print(data['group'].value_counts())\n"
   ]
  },
  {
   "cell_type": "markdown",
   "metadata": {},
   "source": [
    "1. У нас есть большой набор данных с почти 300 тысяч строк и 5 столбцами.\n",
    "\n",
    "2. В наборе есть 74 полных дубликата, которые нужно удалить.\n",
    "\n",
    "3. Даты записаны в текстовом формате, и их нужно преобразовать в правильный формат для работы с ними.\n",
    "\n",
    "4. Столбцы с покупками и ценами уже имеют правильный числовой формат.\n",
    "\n",
    "5. В данных зарегистрировано 290 584 уникальных пользователя, что говорит о том, что некоторые из них встречаются несколько раз.\n",
    "\n",
    "6. Пользователи равномерно распределены между двумя группами (A и B): в группе B чуть больше записей, чем в A, но разница незначительная."
   ]
  },
  {
   "cell_type": "markdown",
   "metadata": {},
   "source": [
    "1.2 Преобразование столбцов к необходимым типам данных"
   ]
  },
  {
   "cell_type": "code",
   "execution_count": 3,
   "metadata": {},
   "outputs": [
    {
     "name": "stdout",
     "output_type": "stream",
     "text": [
      "<class 'pandas.core.frame.DataFrame'>\n",
      "RangeIndex: 294478 entries, 0 to 294477\n",
      "Data columns (total 5 columns):\n",
      " #   Column    Non-Null Count   Dtype         \n",
      "---  ------    --------------   -----         \n",
      " 0   user_id   294478 non-null  int64         \n",
      " 1   date      294478 non-null  datetime64[ns]\n",
      " 2   group     294478 non-null  object        \n",
      " 3   purchase  294478 non-null  int64         \n",
      " 4   price     294478 non-null  int64         \n",
      "dtypes: datetime64[ns](1), int64(3), object(1)\n",
      "memory usage: 11.2+ MB\n"
     ]
    }
   ],
   "source": [
    "# Преобразуем столбец date к формату datetime\n",
    "data['date'] = pd.to_datetime(data['date'], format='%Y-%m-%d')\n",
    "\n",
    "# Проверим, что преобразование прошло успешно\n",
    "data.info()\n"
   ]
  },
  {
   "cell_type": "markdown",
   "metadata": {},
   "source": [
    "1.3 Проверка одинаковой длительности проведения A/B-тестирования"
   ]
  },
  {
   "cell_type": "code",
   "execution_count": 4,
   "metadata": {},
   "outputs": [
    {
     "name": "stdout",
     "output_type": "stream",
     "text": [
      "Группа A: c 2021-01-02 00:00:00 по 2021-01-24 00:00:00\n",
      "Группа B: c 2021-01-02 00:00:00 по 2021-01-24 00:00:00\n",
      "Пересекающийся период: 2021-01-02 00:00:00 по 2021-01-24 00:00:00\n",
      "После унификации периодов:\n",
      "Группа A: c 2021-01-02 00:00:00 по 2021-01-24 00:00:00\n",
      "Группа B: c 2021-01-02 00:00:00 по 2021-01-24 00:00:00\n"
     ]
    }
   ],
   "source": [
    "# Определим период тестирования для каждой группы\n",
    "min_date_A = data.loc[data['group'] == 'A', 'date'].min()\n",
    "max_date_A = data.loc[data['group'] == 'A', 'date'].max()\n",
    "\n",
    "min_date_B = data.loc[data['group'] == 'B', 'date'].min()\n",
    "max_date_B = data.loc[data['group'] == 'B', 'date'].max()\n",
    "\n",
    "print(\"Группа A: c\", min_date_A, \"по\", max_date_A)\n",
    "print(\"Группа B: c\", min_date_B, \"по\", max_date_B)\n",
    "\n",
    "# Находим пересекающийся диапазон дат\n",
    "start_date = max(min_date_A, min_date_B)\n",
    "end_date = min(max_date_A, max_date_B)\n",
    "\n",
    "print(\"Пересекающийся период:\", start_date, \"по\", end_date)\n",
    "\n",
    "# Отфильтруем данные, оставив только пересекающийся период\n",
    "data = data[(data['date'] >= start_date) & (data['date'] <= end_date)]\n",
    "\n",
    "# Повторная проверка\n",
    "min_date_A = data.loc[data['group'] == 'A', 'date'].min()\n",
    "max_date_A = data.loc[data['group'] == 'A', 'date'].max()\n",
    "\n",
    "min_date_B = data.loc[data['group'] == 'B', 'date'].min()\n",
    "max_date_B = data.loc[data['group'] == 'B', 'date'].max()\n",
    "\n",
    "print(\"После унификации периодов:\")\n",
    "print(\"Группа A: c\", min_date_A, \"по\", max_date_A)\n",
    "print(\"Группа B: c\", min_date_B, \"по\", max_date_B)\n"
   ]
  },
  {
   "cell_type": "markdown",
   "metadata": {},
   "source": [
    "1.4 Удаление пропусков"
   ]
  },
  {
   "cell_type": "code",
   "execution_count": 5,
   "metadata": {},
   "outputs": [
    {
     "name": "stdout",
     "output_type": "stream",
     "text": [
      "user_id     0\n",
      "date        0\n",
      "group       0\n",
      "purchase    0\n",
      "price       0\n",
      "dtype: int64\n"
     ]
    }
   ],
   "source": [
    "# Проверка на пропуски\n",
    "print(data.isna().sum())\n"
   ]
  },
  {
   "cell_type": "code",
   "execution_count": 6,
   "metadata": {},
   "outputs": [
    {
     "name": "stdout",
     "output_type": "stream",
     "text": [
      "Количество полных дубликатов строк: 74\n",
      "Количество полных дубликатов строк после удаления: 0\n"
     ]
    }
   ],
   "source": [
    "# Проверим количество полных дубликатов\n",
    "print(\"Количество полных дубликатов строк:\", data.duplicated().sum())\n",
    "\n",
    "# Удалим дубликаты\n",
    "data = data.drop_duplicates()\n",
    "\n",
    "# Проверим ещё раз\n",
    "print(\"Количество полных дубликатов строк после удаления:\", data.duplicated().sum())\n"
   ]
  },
  {
   "cell_type": "markdown",
   "metadata": {},
   "source": [
    "1.5 Проверка на пользователей в обеих группах"
   ]
  },
  {
   "cell_type": "code",
   "execution_count": 7,
   "metadata": {},
   "outputs": [
    {
     "name": "stdout",
     "output_type": "stream",
     "text": [
      "Число пользователей в обеих группах: 1895\n",
      "Число пользователей в обеих группах после фильтрации: 0\n"
     ]
    }
   ],
   "source": [
    "# Определим для каждого пользователя количество уникальных групп, в которых он участвовал\n",
    "user_groups = data.groupby('user_id')['group'].nunique()\n",
    "\n",
    "# Выберем пользователей, которые оказались сразу в двух группах\n",
    "users_in_both_groups = user_groups[user_groups > 1].index\n",
    "\n",
    "print(\"Число пользователей в обеих группах:\", len(users_in_both_groups))\n",
    "\n",
    "# Если такие пользователи есть, исключим их из датафрейма\n",
    "if len(users_in_both_groups) > 0:\n",
    "    data = data[~data['user_id'].isin(users_in_both_groups)]\n",
    "\n",
    "# Проверим, что теперь в данных не осталось пользователей из обеих групп\n",
    "user_groups_after = data.groupby('user_id')['group'].nunique()\n",
    "print(\"Число пользователей в обеих группах после фильтрации:\", (user_groups_after > 1).sum())\n"
   ]
  },
  {
   "cell_type": "markdown",
   "metadata": {},
   "source": [
    "## 2 Первичный анализ результатов A/B-теста "
   ]
  },
  {
   "cell_type": "markdown",
   "metadata": {},
   "source": [
    "2.1 Рассчёт вспомогательных показателей для контрольной и тестовой групп"
   ]
  },
  {
   "cell_type": "code",
   "execution_count": 8,
   "metadata": {},
   "outputs": [
    {
     "data": {
      "text/html": [
       "<div>\n",
       "<style scoped>\n",
       "    .dataframe tbody tr th:only-of-type {\n",
       "        vertical-align: middle;\n",
       "    }\n",
       "\n",
       "    .dataframe tbody tr th {\n",
       "        vertical-align: top;\n",
       "    }\n",
       "\n",
       "    .dataframe thead th {\n",
       "        text-align: right;\n",
       "    }\n",
       "</style>\n",
       "<table border=\"1\" class=\"dataframe\">\n",
       "  <thead>\n",
       "    <tr style=\"text-align: right;\">\n",
       "      <th></th>\n",
       "      <th>visits</th>\n",
       "      <th>total_purchases</th>\n",
       "      <th>total_revenue</th>\n",
       "    </tr>\n",
       "    <tr>\n",
       "      <th>group</th>\n",
       "      <th></th>\n",
       "      <th></th>\n",
       "      <th></th>\n",
       "    </tr>\n",
       "  </thead>\n",
       "  <tbody>\n",
       "    <tr>\n",
       "      <th>A</th>\n",
       "      <td>145268</td>\n",
       "      <td>17487</td>\n",
       "      <td>1417780000</td>\n",
       "    </tr>\n",
       "    <tr>\n",
       "      <th>B</th>\n",
       "      <td>145346</td>\n",
       "      <td>17290</td>\n",
       "      <td>1533010000</td>\n",
       "    </tr>\n",
       "  </tbody>\n",
       "</table>\n",
       "</div>"
      ],
      "text/plain": [
       "       visits  total_purchases  total_revenue\n",
       "group                                        \n",
       "A      145268            17487     1417780000\n",
       "B      145346            17290     1533010000"
      ]
     },
     "execution_count": 8,
     "metadata": {},
     "output_type": "execute_result"
    }
   ],
   "source": [
    "# Группируем данные по группе и рассчитываем необходимые показатели\n",
    "summary = data.groupby('group').agg({\n",
    "    'user_id': 'count',    # количество посещений сайта (каждая строка = визит)\n",
    "    'purchase': 'sum',     # суммарное количество покупок \n",
    "    'price': 'sum'         # сумма всех покупок\n",
    "}).rename(columns={'user_id': 'visits', 'purchase': 'total_purchases', 'price': 'total_revenue'})\n",
    "\n",
    "summary\n"
   ]
  },
  {
   "cell_type": "markdown",
   "metadata": {},
   "source": [
    "разница всего в 78 визитов на ~145 тысяч, то есть менее 0,1%. Можно говорить о том, что выборки по количеству визитов сбалансированы.\n",
    "\n",
    "По числу совершённых покупок результаты также близки.\n",
    "\n",
    "Суммарная выручка в группе B несколько выше, несмотря на то, что количество покупок в обеих группах практически одинаково.\n",
    "\n",
    "Можно корректно сравнивать метрики конверсии и среднего чека между группами"
   ]
  },
  {
   "cell_type": "markdown",
   "metadata": {},
   "source": [
    "2.2 Рассчет ключевых показателей"
   ]
  },
  {
   "cell_type": "code",
   "execution_count": 9,
   "metadata": {},
   "outputs": [
    {
     "data": {
      "text/plain": [
       "(0.12037750915549192,\n",
       " 0.11895752205083043,\n",
       " 81076.22805512666,\n",
       " 88664.54598033546)"
      ]
     },
     "execution_count": 9,
     "metadata": {},
     "output_type": "execute_result"
    }
   ],
   "source": [
    "# Извлечём необходимые показатели из предыдущей таблицы (summary)\n",
    "visits_A = summary.loc['A', 'visits']\n",
    "visits_B = summary.loc['B', 'visits']\n",
    "\n",
    "total_purchases_A = summary.loc['A', 'total_purchases']\n",
    "total_purchases_B = summary.loc['B', 'total_purchases']\n",
    "\n",
    "total_revenue_A = summary.loc['A', 'total_revenue']\n",
    "total_revenue_B = summary.loc['B', 'total_revenue']\n",
    "\n",
    "# Конверсия\n",
    "conversion_A = total_purchases_A / visits_A\n",
    "conversion_B = total_purchases_B / visits_B\n",
    "\n",
    "# Средний чек\n",
    "avg_check_A = total_revenue_A / total_purchases_A\n",
    "avg_check_B = total_revenue_B / total_purchases_B\n",
    "\n",
    "conversion_A, conversion_B, avg_check_A, avg_check_B"
   ]
  },
  {
   "cell_type": "markdown",
   "metadata": {},
   "source": [
    "Конверсия:\n",
    "\n",
    "Вариант A: примерно 12,04%\n",
    "Вариант B: примерно 11,90%\n",
    "По конверсии вариант A немного превосходит вариант B.\n",
    "\n",
    "Средний чек:\n",
    "\n",
    "Вариант A: около 81 076 руб.\n",
    "Вариант B: около 88 665 руб.\n",
    "По среднему чеку вариант B значительно превосходит вариант A.\n",
    "\n",
    "\n",
    "\n",
    "Общий промежуточный вывод:\n",
    "На первый взгляд, у варианта A выше конверсия, то есть большее число пользователей, зашедших на страницу, совершают покупку. Однако у варианта B средний чек заметно выше, что в случае равных или близких по величине конверсий может привести к большей выручке. Вариант A лучше по показателю конверсии, вариант B лучше по показателю среднего чека."
   ]
  },
  {
   "cell_type": "markdown",
   "metadata": {},
   "source": [
    "2.3 Сравнение вариантов A/B по турпродуктам"
   ]
  },
  {
   "cell_type": "code",
   "execution_count": 11,
   "metadata": {},
   "outputs": [
    {
     "data": {
      "text/html": [
       "<div>\n",
       "<style scoped>\n",
       "    .dataframe tbody tr th:only-of-type {\n",
       "        vertical-align: middle;\n",
       "    }\n",
       "\n",
       "    .dataframe tbody tr th {\n",
       "        vertical-align: top;\n",
       "    }\n",
       "\n",
       "    .dataframe thead th {\n",
       "        text-align: right;\n",
       "    }\n",
       "</style>\n",
       "<table border=\"1\" class=\"dataframe\">\n",
       "  <thead>\n",
       "    <tr style=\"text-align: right;\">\n",
       "      <th>price</th>\n",
       "      <th>10000</th>\n",
       "      <th>60000</th>\n",
       "      <th>100000</th>\n",
       "      <th>150000</th>\n",
       "      <th>200000</th>\n",
       "    </tr>\n",
       "    <tr>\n",
       "      <th>group</th>\n",
       "      <th></th>\n",
       "      <th></th>\n",
       "      <th></th>\n",
       "      <th></th>\n",
       "      <th></th>\n",
       "    </tr>\n",
       "  </thead>\n",
       "  <tbody>\n",
       "    <tr>\n",
       "      <th>A</th>\n",
       "      <td>5253</td>\n",
       "      <td>5343</td>\n",
       "      <td>1859</td>\n",
       "      <td>3527</td>\n",
       "      <td>1741</td>\n",
       "    </tr>\n",
       "    <tr>\n",
       "      <th>B</th>\n",
       "      <td>5257</td>\n",
       "      <td>1748</td>\n",
       "      <td>5311</td>\n",
       "      <td>3481</td>\n",
       "      <td>1717</td>\n",
       "    </tr>\n",
       "  </tbody>\n",
       "</table>\n",
       "</div>"
      ],
      "text/plain": [
       "price  10000   60000   100000  150000  200000\n",
       "group                                        \n",
       "A        5253    5343    1859    3527    1741\n",
       "B        5257    1748    5311    3481    1717"
      ]
     },
     "execution_count": 11,
     "metadata": {},
     "output_type": "execute_result"
    }
   ],
   "source": [
    "# Создадим сводную таблицу по совершённым покупкам\n",
    "pivot_tours = data[data['purchase'] == 1].pivot_table(\n",
    "    index='group', \n",
    "    columns='price', \n",
    "    values='user_id', \n",
    "    aggfunc='count',\n",
    "    fill_value=0\n",
    ")\n",
    "\n",
    "pivot_tours\n"
   ]
  },
  {
   "cell_type": "code",
   "execution_count": 12,
   "metadata": {},
   "outputs": [
    {
     "data": {
      "text/plain": [
       "<Figure size 1000x600 with 0 Axes>"
      ]
     },
     "metadata": {},
     "output_type": "display_data"
    },
    {
     "data": {
      "image/png": "[encoded data removed]",
      "text/plain": [
       "<Figure size 1000x600 with 1 Axes>"
      ]
     },
     "metadata": {},
     "output_type": "display_data"
    }
   ],
   "source": [
    "plt.figure(figsize=(10, 6))\n",
    "pivot_tours.plot(kind='bar', stacked=False, figsize=(10,6))\n",
    "plt.title(\"Количество продаж по цене тура в группах A и B\")\n",
    "plt.xlabel(\"Группа\")\n",
    "plt.ylabel(\"Количество продаж\")\n",
    "plt.xticks(rotation=0)\n",
    "plt.legend(title=\"Цена тура\", bbox_to_anchor=(1.05, 1), loc='upper left')\n",
    "plt.tight_layout()\n",
    "plt.show()\n"
   ]
  },
  {
   "cell_type": "markdown",
   "metadata": {},
   "source": [
    "1. Дешёвые туры (10 000 руб.):\n",
    "\n",
    "   • Продажи почти одинаковые в обеих группах: 5253 у группы A и 5257 у группы B. Это значит, что обе группы заинтересованы в покупке самых дешёвых туров.\n",
    "\n",
    "2. Туры средней стоимости (60 000 руб.):\n",
    "\n",
    "   • Группа A значительно опережает группу B: 5343 покупки против 1748. Участники группы A гораздо активнее покупают туры за 60 тысяч рублей.\n",
    "\n",
    "3. Туры по средней-высокой цене (100 000 руб.):\n",
    "\n",
    "   • Здесь группа B лидирует: 5311 покупок против 1859 у группы A. Люди из группы B чаще выбирают туры за 100 тысяч рублей.\n",
    "\n",
    "4. Туры высокой стоимости (150 000 руб.):\n",
    "\n",
    "   • Группа A немного лучше, чем группа B: 3527 против 3481. Разница небольшая, но группа A чуть больше склонна к покупке дорогих туров.\n",
    "\n",
    "5. Самые дорогие туры (200 000 руб.):\n",
    "\n",
    "   • Группа A также немного опережает группу B: 1741 против 1717. Разница минимальна, но всё же в пользу группы A.\n",
    "\n",
    "▎Общий итог:\n",
    "\n",
    "• Группа A лучше продаёт туры за 60 000 рублей и немного больше покупает дорогие туры (150 000 и 200 000 рублей).\n",
    "\n",
    "• Группа B значительно лучше продаёт туры за 100 000 рублей.\n",
    "\n",
    "• В продажах самых дешёвых туров (10 000 рублей) разницы почти нет.\n",
    "\n",
    "Таким образом, можно сказать, что группа A более склонна покупать туры за 60 000, 150 000 и 200 000 рублей, а группа B — за 100 000 рублей."
   ]
  },
  {
   "cell_type": "markdown",
   "metadata": {},
   "source": [
    "## 3 Анализ данных на предмет стабилизации метрик"
   ]
  },
  {
   "cell_type": "markdown",
   "metadata": {},
   "source": [
    "3.1 Формирование таблицы ежедневных данных"
   ]
  },
  {
   "cell_type": "code",
   "execution_count": 13,
   "metadata": {},
   "outputs": [
    {
     "data": {
      "text/html": [
       "<div>\n",
       "<style scoped>\n",
       "    .dataframe tbody tr th:only-of-type {\n",
       "        vertical-align: middle;\n",
       "    }\n",
       "\n",
       "    .dataframe tbody tr th {\n",
       "        vertical-align: top;\n",
       "    }\n",
       "\n",
       "    .dataframe thead th {\n",
       "        text-align: right;\n",
       "    }\n",
       "</style>\n",
       "<table border=\"1\" class=\"dataframe\">\n",
       "  <thead>\n",
       "    <tr style=\"text-align: right;\">\n",
       "      <th></th>\n",
       "      <th>date</th>\n",
       "      <th>group</th>\n",
       "      <th>daily_visits</th>\n",
       "      <th>daily_purchases</th>\n",
       "      <th>daily_revenue</th>\n",
       "    </tr>\n",
       "  </thead>\n",
       "  <tbody>\n",
       "    <tr>\n",
       "      <th>0</th>\n",
       "      <td>2021-01-02</td>\n",
       "      <td>A</td>\n",
       "      <td>2894</td>\n",
       "      <td>362</td>\n",
       "      <td>29720000</td>\n",
       "    </tr>\n",
       "    <tr>\n",
       "      <th>1</th>\n",
       "      <td>2021-01-02</td>\n",
       "      <td>B</td>\n",
       "      <td>2889</td>\n",
       "      <td>348</td>\n",
       "      <td>29920000</td>\n",
       "    </tr>\n",
       "    <tr>\n",
       "      <th>2</th>\n",
       "      <td>2021-01-03</td>\n",
       "      <td>A</td>\n",
       "      <td>6684</td>\n",
       "      <td>760</td>\n",
       "      <td>62640000</td>\n",
       "    </tr>\n",
       "    <tr>\n",
       "      <th>3</th>\n",
       "      <td>2021-01-03</td>\n",
       "      <td>B</td>\n",
       "      <td>6710</td>\n",
       "      <td>762</td>\n",
       "      <td>66540000</td>\n",
       "    </tr>\n",
       "    <tr>\n",
       "      <th>4</th>\n",
       "      <td>2021-01-04</td>\n",
       "      <td>A</td>\n",
       "      <td>6655</td>\n",
       "      <td>810</td>\n",
       "      <td>64970000</td>\n",
       "    </tr>\n",
       "  </tbody>\n",
       "</table>\n",
       "</div>"
      ],
      "text/plain": [
       "         date group  daily_visits  daily_purchases  daily_revenue\n",
       "0  2021-01-02     A          2894              362       29720000\n",
       "1  2021-01-02     B          2889              348       29920000\n",
       "2  2021-01-03     A          6684              760       62640000\n",
       "3  2021-01-03     B          6710              762       66540000\n",
       "4  2021-01-04     A          6655              810       64970000"
      ]
     },
     "execution_count": 13,
     "metadata": {},
     "output_type": "execute_result"
    }
   ],
   "source": [
    "daily_data = (\n",
    "    data\n",
    "    .groupby(['date', 'group'])\n",
    "    .agg(\n",
    "        daily_visits=('user_id', 'count'),\n",
    "        daily_purchases=('purchase', 'sum'),\n",
    "        daily_revenue=('price', 'sum')\n",
    "    )\n",
    "    .reset_index()\n",
    ")\n",
    "\n",
    "daily_data.head()\n"
   ]
  },
  {
   "cell_type": "markdown",
   "metadata": {},
   "source": [
    "3.2 Вычисление ежедневных конверсии и среднего чека"
   ]
  },
  {
   "cell_type": "code",
   "execution_count": 14,
   "metadata": {},
   "outputs": [
    {
     "data": {
      "text/html": [
       "<div>\n",
       "<style scoped>\n",
       "    .dataframe tbody tr th:only-of-type {\n",
       "        vertical-align: middle;\n",
       "    }\n",
       "\n",
       "    .dataframe tbody tr th {\n",
       "        vertical-align: top;\n",
       "    }\n",
       "\n",
       "    .dataframe thead th {\n",
       "        text-align: right;\n",
       "    }\n",
       "</style>\n",
       "<table border=\"1\" class=\"dataframe\">\n",
       "  <thead>\n",
       "    <tr style=\"text-align: right;\">\n",
       "      <th></th>\n",
       "      <th>date</th>\n",
       "      <th>group</th>\n",
       "      <th>daily_visits</th>\n",
       "      <th>daily_purchases</th>\n",
       "      <th>daily_revenue</th>\n",
       "      <th>daily_conversion</th>\n",
       "      <th>daily_avg_check</th>\n",
       "    </tr>\n",
       "  </thead>\n",
       "  <tbody>\n",
       "    <tr>\n",
       "      <th>0</th>\n",
       "      <td>2021-01-02</td>\n",
       "      <td>A</td>\n",
       "      <td>2894</td>\n",
       "      <td>362</td>\n",
       "      <td>29720000</td>\n",
       "      <td>0.125086</td>\n",
       "      <td>82099.447514</td>\n",
       "    </tr>\n",
       "    <tr>\n",
       "      <th>1</th>\n",
       "      <td>2021-01-02</td>\n",
       "      <td>B</td>\n",
       "      <td>2889</td>\n",
       "      <td>348</td>\n",
       "      <td>29920000</td>\n",
       "      <td>0.120457</td>\n",
       "      <td>85977.011494</td>\n",
       "    </tr>\n",
       "    <tr>\n",
       "      <th>2</th>\n",
       "      <td>2021-01-03</td>\n",
       "      <td>A</td>\n",
       "      <td>6684</td>\n",
       "      <td>760</td>\n",
       "      <td>62640000</td>\n",
       "      <td>0.113704</td>\n",
       "      <td>82421.052632</td>\n",
       "    </tr>\n",
       "    <tr>\n",
       "      <th>3</th>\n",
       "      <td>2021-01-03</td>\n",
       "      <td>B</td>\n",
       "      <td>6710</td>\n",
       "      <td>762</td>\n",
       "      <td>66540000</td>\n",
       "      <td>0.113562</td>\n",
       "      <td>87322.834646</td>\n",
       "    </tr>\n",
       "    <tr>\n",
       "      <th>4</th>\n",
       "      <td>2021-01-04</td>\n",
       "      <td>A</td>\n",
       "      <td>6655</td>\n",
       "      <td>810</td>\n",
       "      <td>64970000</td>\n",
       "      <td>0.121713</td>\n",
       "      <td>80209.876543</td>\n",
       "    </tr>\n",
       "  </tbody>\n",
       "</table>\n",
       "</div>"
      ],
      "text/plain": [
       "         date group  daily_visits  daily_purchases  daily_revenue  \\\n",
       "0  2021-01-02     A          2894              362       29720000   \n",
       "1  2021-01-02     B          2889              348       29920000   \n",
       "2  2021-01-03     A          6684              760       62640000   \n",
       "3  2021-01-03     B          6710              762       66540000   \n",
       "4  2021-01-04     A          6655              810       64970000   \n",
       "\n",
       "   daily_conversion  daily_avg_check  \n",
       "0          0.125086     82099.447514  \n",
       "1          0.120457     85977.011494  \n",
       "2          0.113704     82421.052632  \n",
       "3          0.113562     87322.834646  \n",
       "4          0.121713     80209.876543  "
      ]
     },
     "execution_count": 14,
     "metadata": {},
     "output_type": "execute_result"
    }
   ],
   "source": [
    "daily_data['daily_conversion'] = daily_data['daily_purchases'] / daily_data['daily_visits']\n",
    "\n",
    "# При вычислении среднего чека стоит учесть, что если purchases=0, то деление приведёт к ошибке.\n",
    "# Предположим, что в каждый день были хотя бы какие-то покупки. Если нет — нужно это обработать.\n",
    "daily_data['daily_avg_check'] = daily_data.apply(\n",
    "    lambda row: row['daily_revenue'] / row['daily_purchases'] if row['daily_purchases'] > 0 else 0,\n",
    "    axis=1\n",
    ")\n",
    "\n",
    "daily_data.head()\n"
   ]
  },
  {
   "cell_type": "markdown",
   "metadata": {},
   "source": [
    "3.3 Расчёт кумулятивных показателей"
   ]
  },
  {
   "cell_type": "code",
   "execution_count": 15,
   "metadata": {},
   "outputs": [
    {
     "data": {
      "text/html": [
       "<div>\n",
       "<style scoped>\n",
       "    .dataframe tbody tr th:only-of-type {\n",
       "        vertical-align: middle;\n",
       "    }\n",
       "\n",
       "    .dataframe tbody tr th {\n",
       "        vertical-align: top;\n",
       "    }\n",
       "\n",
       "    .dataframe thead th {\n",
       "        text-align: right;\n",
       "    }\n",
       "</style>\n",
       "<table border=\"1\" class=\"dataframe\">\n",
       "  <thead>\n",
       "    <tr style=\"text-align: right;\">\n",
       "      <th></th>\n",
       "      <th>date</th>\n",
       "      <th>group</th>\n",
       "      <th>daily_visits</th>\n",
       "      <th>daily_purchases</th>\n",
       "      <th>daily_revenue</th>\n",
       "      <th>daily_conversion</th>\n",
       "      <th>daily_avg_check</th>\n",
       "      <th>cum_visits</th>\n",
       "      <th>cum_purchases</th>\n",
       "      <th>cum_revenue</th>\n",
       "    </tr>\n",
       "  </thead>\n",
       "  <tbody>\n",
       "    <tr>\n",
       "      <th>0</th>\n",
       "      <td>2021-01-02</td>\n",
       "      <td>A</td>\n",
       "      <td>2894</td>\n",
       "      <td>362</td>\n",
       "      <td>29720000</td>\n",
       "      <td>0.125086</td>\n",
       "      <td>82099.447514</td>\n",
       "      <td>2894</td>\n",
       "      <td>362</td>\n",
       "      <td>29720000</td>\n",
       "    </tr>\n",
       "    <tr>\n",
       "      <th>2</th>\n",
       "      <td>2021-01-03</td>\n",
       "      <td>A</td>\n",
       "      <td>6684</td>\n",
       "      <td>760</td>\n",
       "      <td>62640000</td>\n",
       "      <td>0.113704</td>\n",
       "      <td>82421.052632</td>\n",
       "      <td>9578</td>\n",
       "      <td>1122</td>\n",
       "      <td>92360000</td>\n",
       "    </tr>\n",
       "    <tr>\n",
       "      <th>4</th>\n",
       "      <td>2021-01-04</td>\n",
       "      <td>A</td>\n",
       "      <td>6655</td>\n",
       "      <td>810</td>\n",
       "      <td>64970000</td>\n",
       "      <td>0.121713</td>\n",
       "      <td>80209.876543</td>\n",
       "      <td>16233</td>\n",
       "      <td>1932</td>\n",
       "      <td>157330000</td>\n",
       "    </tr>\n",
       "    <tr>\n",
       "      <th>6</th>\n",
       "      <td>2021-01-05</td>\n",
       "      <td>A</td>\n",
       "      <td>6538</td>\n",
       "      <td>801</td>\n",
       "      <td>65710000</td>\n",
       "      <td>0.122515</td>\n",
       "      <td>82034.956305</td>\n",
       "      <td>22771</td>\n",
       "      <td>2733</td>\n",
       "      <td>223040000</td>\n",
       "    </tr>\n",
       "    <tr>\n",
       "      <th>8</th>\n",
       "      <td>2021-01-06</td>\n",
       "      <td>A</td>\n",
       "      <td>6684</td>\n",
       "      <td>778</td>\n",
       "      <td>64440000</td>\n",
       "      <td>0.116397</td>\n",
       "      <td>82827.763496</td>\n",
       "      <td>29455</td>\n",
       "      <td>3511</td>\n",
       "      <td>287480000</td>\n",
       "    </tr>\n",
       "  </tbody>\n",
       "</table>\n",
       "</div>"
      ],
      "text/plain": [
       "         date group  daily_visits  daily_purchases  daily_revenue  \\\n",
       "0  2021-01-02     A          2894              362       29720000   \n",
       "2  2021-01-03     A          6684              760       62640000   \n",
       "4  2021-01-04     A          6655              810       64970000   \n",
       "6  2021-01-05     A          6538              801       65710000   \n",
       "8  2021-01-06     A          6684              778       64440000   \n",
       "\n",
       "   daily_conversion  daily_avg_check  cum_visits  cum_purchases  cum_revenue  \n",
       "0          0.125086     82099.447514        2894            362     29720000  \n",
       "2          0.113704     82421.052632        9578           1122     92360000  \n",
       "4          0.121713     80209.876543       16233           1932    157330000  \n",
       "6          0.122515     82034.956305       22771           2733    223040000  \n",
       "8          0.116397     82827.763496       29455           3511    287480000  "
      ]
     },
     "execution_count": 15,
     "metadata": {},
     "output_type": "execute_result"
    }
   ],
   "source": [
    "# Отсортируем данные по группе и дате для корректного вычисления кумулятивных сумм\n",
    "daily_data = daily_data.sort_values(by=['group', 'date'])\n",
    "\n",
    "# Рассчитаем кумулятивные показатели внутри каждой группы\n",
    "daily_data['cum_visits'] = daily_data.groupby('group')['daily_visits'].cumsum()\n",
    "daily_data['cum_purchases'] = daily_data.groupby('group')['daily_purchases'].cumsum()\n",
    "daily_data['cum_revenue'] = daily_data.groupby('group')['daily_revenue'].cumsum()\n",
    "\n",
    "daily_data.head()\n"
   ]
  },
  {
   "cell_type": "markdown",
   "metadata": {},
   "source": [
    "3.4 Расчёт кумулятивных метрик"
   ]
  },
  {
   "cell_type": "code",
   "execution_count": 16,
   "metadata": {},
   "outputs": [
    {
     "data": {
      "text/html": [
       "<div>\n",
       "<style scoped>\n",
       "    .dataframe tbody tr th:only-of-type {\n",
       "        vertical-align: middle;\n",
       "    }\n",
       "\n",
       "    .dataframe tbody tr th {\n",
       "        vertical-align: top;\n",
       "    }\n",
       "\n",
       "    .dataframe thead th {\n",
       "        text-align: right;\n",
       "    }\n",
       "</style>\n",
       "<table border=\"1\" class=\"dataframe\">\n",
       "  <thead>\n",
       "    <tr style=\"text-align: right;\">\n",
       "      <th></th>\n",
       "      <th>date</th>\n",
       "      <th>group</th>\n",
       "      <th>daily_visits</th>\n",
       "      <th>daily_purchases</th>\n",
       "      <th>daily_revenue</th>\n",
       "      <th>daily_conversion</th>\n",
       "      <th>daily_avg_check</th>\n",
       "      <th>cum_visits</th>\n",
       "      <th>cum_purchases</th>\n",
       "      <th>cum_revenue</th>\n",
       "      <th>cum_conversion</th>\n",
       "      <th>cum_avg_check</th>\n",
       "    </tr>\n",
       "  </thead>\n",
       "  <tbody>\n",
       "    <tr>\n",
       "      <th>0</th>\n",
       "      <td>2021-01-02</td>\n",
       "      <td>A</td>\n",
       "      <td>2894</td>\n",
       "      <td>362</td>\n",
       "      <td>29720000</td>\n",
       "      <td>0.125086</td>\n",
       "      <td>82099.447514</td>\n",
       "      <td>2894</td>\n",
       "      <td>362</td>\n",
       "      <td>29720000</td>\n",
       "      <td>0.125086</td>\n",
       "      <td>82099.447514</td>\n",
       "    </tr>\n",
       "    <tr>\n",
       "      <th>2</th>\n",
       "      <td>2021-01-03</td>\n",
       "      <td>A</td>\n",
       "      <td>6684</td>\n",
       "      <td>760</td>\n",
       "      <td>62640000</td>\n",
       "      <td>0.113704</td>\n",
       "      <td>82421.052632</td>\n",
       "      <td>9578</td>\n",
       "      <td>1122</td>\n",
       "      <td>92360000</td>\n",
       "      <td>0.117143</td>\n",
       "      <td>82317.290553</td>\n",
       "    </tr>\n",
       "    <tr>\n",
       "      <th>4</th>\n",
       "      <td>2021-01-04</td>\n",
       "      <td>A</td>\n",
       "      <td>6655</td>\n",
       "      <td>810</td>\n",
       "      <td>64970000</td>\n",
       "      <td>0.121713</td>\n",
       "      <td>80209.876543</td>\n",
       "      <td>16233</td>\n",
       "      <td>1932</td>\n",
       "      <td>157330000</td>\n",
       "      <td>0.119017</td>\n",
       "      <td>81433.747412</td>\n",
       "    </tr>\n",
       "    <tr>\n",
       "      <th>6</th>\n",
       "      <td>2021-01-05</td>\n",
       "      <td>A</td>\n",
       "      <td>6538</td>\n",
       "      <td>801</td>\n",
       "      <td>65710000</td>\n",
       "      <td>0.122515</td>\n",
       "      <td>82034.956305</td>\n",
       "      <td>22771</td>\n",
       "      <td>2733</td>\n",
       "      <td>223040000</td>\n",
       "      <td>0.120021</td>\n",
       "      <td>81609.952433</td>\n",
       "    </tr>\n",
       "    <tr>\n",
       "      <th>8</th>\n",
       "      <td>2021-01-06</td>\n",
       "      <td>A</td>\n",
       "      <td>6684</td>\n",
       "      <td>778</td>\n",
       "      <td>64440000</td>\n",
       "      <td>0.116397</td>\n",
       "      <td>82827.763496</td>\n",
       "      <td>29455</td>\n",
       "      <td>3511</td>\n",
       "      <td>287480000</td>\n",
       "      <td>0.119199</td>\n",
       "      <td>81879.806323</td>\n",
       "    </tr>\n",
       "  </tbody>\n",
       "</table>\n",
       "</div>"
      ],
      "text/plain": [
       "         date group  daily_visits  daily_purchases  daily_revenue  \\\n",
       "0  2021-01-02     A          2894              362       29720000   \n",
       "2  2021-01-03     A          6684              760       62640000   \n",
       "4  2021-01-04     A          6655              810       64970000   \n",
       "6  2021-01-05     A          6538              801       65710000   \n",
       "8  2021-01-06     A          6684              778       64440000   \n",
       "\n",
       "   daily_conversion  daily_avg_check  cum_visits  cum_purchases  cum_revenue  \\\n",
       "0          0.125086     82099.447514        2894            362     29720000   \n",
       "2          0.113704     82421.052632        9578           1122     92360000   \n",
       "4          0.121713     80209.876543       16233           1932    157330000   \n",
       "6          0.122515     82034.956305       22771           2733    223040000   \n",
       "8          0.116397     82827.763496       29455           3511    287480000   \n",
       "\n",
       "   cum_conversion  cum_avg_check  \n",
       "0        0.125086   82099.447514  \n",
       "2        0.117143   82317.290553  \n",
       "4        0.119017   81433.747412  \n",
       "6        0.120021   81609.952433  \n",
       "8        0.119199   81879.806323  "
      ]
     },
     "execution_count": 16,
     "metadata": {},
     "output_type": "execute_result"
    }
   ],
   "source": [
    "daily_data['cum_conversion'] = daily_data['cum_purchases'] / daily_data['cum_visits']\n",
    "\n",
    "# Для вычисления среднего чека убедимся, что cum_purchases не ноль\n",
    "daily_data['cum_avg_check'] = daily_data.apply(\n",
    "    lambda row: row['cum_revenue'] / row['cum_purchases'] if row['cum_purchases'] > 0 else 0,\n",
    "    axis=1\n",
    ")\n",
    "\n",
    "daily_data.head()\n"
   ]
  },
  {
   "cell_type": "markdown",
   "metadata": {},
   "source": [
    "3.5 Построение кумулятивных графиков"
   ]
  },
  {
   "cell_type": "code",
   "execution_count": 17,
   "metadata": {},
   "outputs": [
    {
     "data": {
      "image/png": "[encoded data removed]",
      "text/plain": [
       "<Figure size 1200x500 with 2 Axes>"
      ]
     },
     "metadata": {},
     "output_type": "display_data"
    }
   ],
   "source": [
    "# Фильтруем данные по группам\n",
    "daily_a = daily_data[daily_data['group'] == 'A']\n",
    "daily_b = daily_data[daily_data['group'] == 'B']\n",
    "\n",
    "plt.figure(figsize=(12, 5))\n",
    "\n",
    "# Кумулятивная конверсия\n",
    "plt.subplot(1, 2, 1)\n",
    "sns.lineplot(data=daily_a, x='date', y='cum_conversion', label='A')\n",
    "sns.lineplot(data=daily_b, x='date', y='cum_conversion', label='B')\n",
    "plt.title('Кумулятивная конверсия по дням')\n",
    "plt.xlabel('Дата')\n",
    "plt.ylabel('Кумулятивная конверсия')\n",
    "plt.xticks(rotation=45)\n",
    "\n",
    "# Кумулятивный средний чек\n",
    "plt.subplot(1, 2, 2)\n",
    "sns.lineplot(data=daily_a, x='date', y='cum_avg_check', label='A')\n",
    "sns.lineplot(data=daily_b, x='date', y='cum_avg_check', label='B')\n",
    "plt.title('Кумулятивный средний чек по дням')\n",
    "plt.xlabel('Дата')\n",
    "plt.ylabel('Кумулятивный средний чек')\n",
    "plt.xticks(rotation=45)\n",
    "\n",
    "plt.tight_layout()\n",
    "plt.show()\n"
   ]
  },
  {
   "cell_type": "markdown",
   "metadata": {},
   "source": [
    "1. Кумулятивная конверсия:\n",
    "\n",
    "   • На графике видно, что группа A показывает более высокую конверсию, чем группа B. К концу теста колебания в показателях уменьшились, что говорит о том, что конверсия в группе A стабильно выше.\n",
    "\n",
    "2. Кумулятивный средний чек:\n",
    "\n",
    "   • Средний чек в группе B постепенно увеличивался и к концу теста стал значительно выше, чем в группе A. Показатели также стали более стабильными, что указывает на то, что группа B достигла хорошего уровня.\n",
    "\n",
    "3. Завершение теста:\n",
    "\n",
    "   • В конце теста метрики обеих групп стабилизировались: конверсия в группе A выше, а средний чек в группе B выше. Когда показатели перестают сильно меняться, это означает, что тест длился достаточно долго для принятия решения.\n",
    "\n",
    "▎Общие соотношения:\n",
    "\n",
    "• Группа A показывает лучшую конверсию.\n",
    "\n",
    "• Группа B имеет более высокий средний чек.\n",
    "\n",
    "В итоге, тест можно считать завершённым, так как метрики достигли стабильного уровня, и теперь можно переходить к статистическому анализу для окончательного решения."
   ]
  },
  {
   "cell_type": "markdown",
   "metadata": {},
   "source": [
    "## 4 статистический анализ результатов A/B-тестирования\n"
   ]
  },
  {
   "cell_type": "markdown",
   "metadata": {},
   "source": [
    "4.1 Формулировка статистических гипотез и выбор теста Для проведения статистического анализа"
   ]
  },
  {
   "cell_type": "markdown",
   "metadata": {},
   "source": [
    "1. Различается ли конверсия между группами A и B?\n",
    "\n",
    "   • Конверсия — это процент пользователей, которые сделали покупку после посещения сайта. Мы хотим узнать, в какой группе конверсия выше.\n",
    "\n",
    "   • Нулевая гипотеза (H0): Конверсия в группе A равна конверсии в группе B.\n",
    "\n",
    "   • Альтернативная гипотеза (H1): Конверсия в группе A не равна конверсии в группе B.\n",
    "\n",
    "   • Для проверки будем использовать z-тест для сравнения долей, так как конверсия — это процент (покупка сделана или нет).\n",
    "\n",
    "2. Различается ли средний чек между группами A и B?\n",
    "\n",
    "   • Средний чек — это средняя сумма, которую тратят пользователи при покупке. Перед тем как выбрать тест, нужно проверить, нормально ли распределены данные о среднем чеке.\n",
    "\n",
    "   • Проверку нормальности можно сделать с помощью специальных тестов (например, тест Шапиро-Уилка) или просто визуально оценив графики. Если данных много, то согласно центральной предельной теореме, средний чек можно считать нормально распределённым.\n",
    "\n",
    "   • Нулевая гипотеза (H0): Средний чек в группе A равен среднему чеку в группе B.\n",
    "\n",
    "   • Альтернативная гипотеза (H1): Средний чек в группе A не равен среднему чеку в группе B.\n",
    "\n",
    "   • Выбор теста для среднего чека:\n",
    "\n",
    "     • Если данные нормально распределены и имеют схожую вариативность, используем t-тест для независимых выборок.\n",
    "\n",
    "     • Если распределение сильно отличается от нормального или есть выбросы, используем непараметрический тест Манна-Уитни.\n",
    "\n",
    "▎Резюме по выбору тестов:\n",
    "\n",
    "• Для конверсии: используем z-тест для сравнения долей.\n",
    "\n",
    "• Для среднего чека: сначала проверяем нормальность.\n",
    "\n",
    "  • Если нормальность есть — используем t-тест.\n",
    "\n",
    "  • Если нормальности нет — используем тест Манна-Уитни."
   ]
  },
  {
   "cell_type": "markdown",
   "metadata": {},
   "source": [
    "4.2  Проверка разницы между конверсиями в группах A и B"
   ]
  },
  {
   "cell_type": "code",
   "execution_count": 18,
   "metadata": {},
   "outputs": [
    {
     "name": "stdout",
     "output_type": "stream",
     "text": [
      "Проверка разницы конверсий A vs B:\n",
      "Z-статистика: 1.1792379652289662\n",
      "p-значение: 0.23830343241067387\n"
     ]
    }
   ],
   "source": [
    "# Числа успехов (покупок) и общих наблюдений (визитов) для групп A и B\n",
    "purchases_A = summary.loc['A', 'total_purchases']\n",
    "visits_A = summary.loc['A', 'visits']\n",
    "\n",
    "purchases_B = summary.loc['B', 'total_purchases']\n",
    "visits_B = summary.loc['B', 'visits']\n",
    "\n",
    "count = np.array([purchases_A, purchases_B])\n",
    "nobs = np.array([visits_A, visits_B])\n",
    "\n",
    "# Z-тест для пропорций\n",
    "stat, p_value = proportions_ztest(count, nobs)\n",
    "print(\"Проверка разницы конверсий A vs B:\")\n",
    "print(\"Z-статистика:\", stat)\n",
    "print(\"p-значение:\", p_value)\n"
   ]
  },
  {
   "cell_type": "code",
   "execution_count": 19,
   "metadata": {},
   "outputs": [
    {
     "name": "stdout",
     "output_type": "stream",
     "text": [
      "Проверка нормальности для A: 0.28827998303909397\n",
      "Проверка нормальности для B: 0.13828545599460867\n"
     ]
    }
   ],
   "source": [
    "# Выберем ежедневный средний чек для групп A и B\n",
    "daily_avg_A = daily_data.loc[daily_data['group'] == 'A', 'daily_avg_check']\n",
    "daily_avg_B = daily_data.loc[daily_data['group'] == 'B', 'daily_avg_check']\n",
    "\n",
    "# Проверим нормальность распределения среднего чека в группах\n",
    "_, p_A = shapiro(daily_avg_A)\n",
    "_, p_B = shapiro(daily_avg_B)\n",
    "print(\"Проверка нормальности для A:\", p_A)\n",
    "print(\"Проверка нормальности для B:\", p_B)\n"
   ]
  },
  {
   "cell_type": "markdown",
   "metadata": {},
   "source": [
    "Интерпретация результатов по конверсии:\n",
    "\n",
    "Z-статистика: 1.1792379652289662\n",
    "p-значение: ~0.2383\n",
    "При уровне значимости 5% (альфа = 0.05) p-значение больше 0.05, следовательно, мы не можем отвергнуть нулевую гипотезу о равенстве конверсий в группах A и B. Другими словами, статистически значимых отличий в конверсии между группами не выявлено.\n",
    "\n",
    "Проверка нормальности для среднего чека:\n",
    "\n",
    "Для группы A: p-значение теста Шапиро-Уилка ~0.2883\n",
    "Для группы B: p-значение теста Шапиро-Уилка ~0.1383\n",
    "Оба p-значения больше 0.05, значит мы не отвергаем гипотезу о нормальности распределения среднего чека для обоих выборок. Поскольку данные не противоречат предположению о нормальности, мы можем использовать параметрический тест (t-тест) для проверки различий в средних чеках."
   ]
  },
  {
   "cell_type": "code",
   "execution_count": 22,
   "metadata": {},
   "outputs": [
    {
     "name": "stdout",
     "output_type": "stream",
     "text": [
      "Результаты t-теста для среднего чека:\n",
      "T-статистика: -9.761734301683154\n",
      "p-значение: 4.634490597191615e-12\n"
     ]
    }
   ],
   "source": [
    "# Выборки ежедневного среднего чека для групп A и B \n",
    "daily_avg_A = daily_data.loc[daily_data['group'] == 'A', 'daily_avg_check']\n",
    "daily_avg_B = daily_data.loc[daily_data['group'] == 'B', 'daily_avg_check']\n",
    "\n",
    "# Проведём t-тест (Welch’s t-test)\n",
    "stat_check, p_check = ttest_ind(daily_avg_A, daily_avg_B, equal_var=False)\n",
    "print(\"Результаты t-теста для среднего чека:\")\n",
    "print(\"T-статистика:\", stat_check)\n",
    "print(\"p-значение:\", p_check)\n"
   ]
  },
  {
   "cell_type": "markdown",
   "metadata": {},
   "source": [
    "При уровне значимости 5% (альфа = 0.05) такое маленькое p-значение говорит о том, что мы отвергаем нулевую гипотезу о равенстве средних чеков. Это означает, что средние чеки в группах A и B статистически значимо различаются."
   ]
  },
  {
   "cell_type": "markdown",
   "metadata": {},
   "source": [
    "Итог по статистическим тестам:\n",
    "\n",
    "Конверсия: статистически значимых различий не обнаружено (p-value > 0.05).\n",
    "Средний чек: статистически значимые различия есть (p-value < 0.05)"
   ]
  },
  {
   "cell_type": "markdown",
   "metadata": {},
   "source": [
    "4.3 Доверительные интервалы для конверсий"
   ]
  },
  {
   "cell_type": "code",
   "execution_count": 24,
   "metadata": {},
   "outputs": [
    {
     "name": "stdout",
     "output_type": "stream",
     "text": [
      "95% ДИ для конверсии A: [0.1187, 0.1221]\n",
      "95% ДИ для конверсии B: [0.1173, 0.1206]\n"
     ]
    }
   ],
   "source": [
    "# Данные для конверсии\n",
    "p_A = purchases_A / visits_A\n",
    "p_B = purchases_B / visits_B\n",
    "\n",
    "z = 1.96  # 95%-ый доверительный интервал для нормального распределения\n",
    "\n",
    "# ДИ для конверсии A\n",
    "conf_A_lower = p_A - z * sqrt(p_A*(1-p_A)/visits_A)\n",
    "conf_A_upper = p_A + z * sqrt(p_A*(1-p_A)/visits_A)\n",
    "\n",
    "# ДИ для конверсии B\n",
    "conf_B_lower = p_B - z * sqrt(p_B*(1-p_B)/visits_B)\n",
    "conf_B_upper = p_B + z * sqrt(p_B*(1-p_B)/visits_B)\n",
    "\n",
    "print(\"95% ДИ для конверсии A: [{:.4f}, {:.4f}]\".format(conf_A_lower, conf_A_upper))\n",
    "print(\"95% ДИ для конверсии B: [{:.4f}, {:.4f}]\".format(conf_B_lower, conf_B_upper))"
   ]
  },
  {
   "cell_type": "code",
   "execution_count": 25,
   "metadata": {},
   "outputs": [
    {
     "name": "stdout",
     "output_type": "stream",
     "text": [
      "95% ДИ для разницы конверсий (A - B): [-0.0009, 0.0038]\n"
     ]
    }
   ],
   "source": [
    "diff = p_A - p_B\n",
    "se_diff = sqrt(p_A*(1-p_A)/visits_A + p_B*(1-p_B)/visits_B)\n",
    "\n",
    "conf_diff_lower = diff - z * se_diff\n",
    "conf_diff_upper = diff + z * se_diff\n",
    "\n",
    "print(\"95% ДИ для разницы конверсий (A - B): [{:.4f}, {:.4f}]\".format(conf_diff_lower, conf_diff_upper))\n"
   ]
  },
  {
   "cell_type": "code",
   "execution_count": 26,
   "metadata": {},
   "outputs": [
    {
     "name": "stdout",
     "output_type": "stream",
     "text": [
      "95% ДИ для среднего чека A: [79588.22, 82274.37]\n",
      "95% ДИ для среднего чека B: [87702.41, 89576.18]\n"
     ]
    }
   ],
   "source": [
    "mean_A = daily_avg_A.mean()\n",
    "mean_B = daily_avg_B.mean()\n",
    "\n",
    "std_A = daily_avg_A.std(ddof=1)\n",
    "std_B = daily_avg_B.std(ddof=1)\n",
    "\n",
    "n_A_days = len(daily_avg_A)\n",
    "n_B_days = len(daily_avg_B)\n",
    "\n",
    "# Квантиль для t-распределения с (n-1) степенью свободы (приблизительно для обоих возьмём отдельно)\n",
    "t_val_A = t.ppf(1-0.025, df=n_A_days-1)\n",
    "t_val_B = t.ppf(1-0.025, df=n_B_days-1)\n",
    "\n",
    "conf_A_lower_check = mean_A - t_val_A * std_A/sqrt(n_A_days)\n",
    "conf_A_upper_check = mean_A + t_val_A * std_A/sqrt(n_A_days)\n",
    "\n",
    "conf_B_lower_check = mean_B - t_val_B * std_B/sqrt(n_B_days)\n",
    "conf_B_upper_check = mean_B + t_val_B * std_B/sqrt(n_B_days)\n",
    "\n",
    "print(\"95% ДИ для среднего чека A: [{:.2f}, {:.2f}]\".format(conf_A_lower_check, conf_A_upper_check))\n",
    "print(\"95% ДИ для среднего чека B: [{:.2f}, {:.2f}]\".format(conf_B_lower_check, conf_B_upper_check))\n"
   ]
  },
  {
   "cell_type": "markdown",
   "metadata": {},
   "source": [
    "4.4 Интерпретация доверительных интервалов:"
   ]
  },
  {
   "cell_type": "markdown",
   "metadata": {},
   "source": [
    "Интерпретация доверительных интервалов:\n",
    "\n",
    "Конверсия:\n",
    "\n",
    "Доверительный интервал для конверсии в группе A: [0.1187, 0.1221]\n",
    "Доверительный интервал для конверсии в группе B: [0.1173, 0.1206]\n",
    "Интервалы частично пересекаются. Более того, 95%-й доверительный интервал для разницы конверсий (A - B) равен [-0.0009, 0.0038]. Этот интервал включает в себя ноль, что означает, что с учётом статистической погрешности мы не можем уверенно заявить о превосходстве одной группы над другой по конверсии.\n",
    "\n",
    "Проще говоря, несмотря на то, что точечная оценка конверсии у группы A чуть выше, интервал разницы конверсий охватывает ноль, свидетельствуя о том, что статистически значимого различия не обнаружено.\n",
    "\n",
    "Средний чек:\n",
    "\n",
    "Доверительный интервал для среднего чека A: [79 588.22, 82 274.37]\n",
    "Доверительный интервал для среднего чека B: [87 702.41, 89 576.18]\n",
    "Доверительные интервалы для среднего чека в группах A и B не пересекаются. Это значит, что истинный средний чек в группе B статистически значимо выше, чем в группе A. Пересечение интервалов отсутствует, а значит, мы с высокой вероятностью можем утверждать о существенном различии в пользу группы B.\n",
    "\n",
    "Вывод по перекрытию интервалов:\n",
    "\n",
    "Для конверсий интервалы пересекаются, а разница охватывает нулевое значение. Это говорит о том, что при данном уровне достоверности нельзя с уверенностью утверждать о различиях конверсии между группами.\n",
    "Для среднего чека интервалы не пересекаются. Это подтверждает статистически значимые различия в среднем чеке между группами, причём группа B демонстрирует существенно более высокий средний чек."
   ]
  },
  {
   "cell_type": "markdown",
   "metadata": {},
   "source": [
    "## 5 Общий вывод по результатам A/B-теста \n",
    "\n",
    "Конверсия:\n",
    "Анализ показал, что конверсия в группе A была чуть выше по точечной оценке, но статистические тесты и доверительные интервалы не подтвердили наличие статистически значимых различий. Доверительный интервал разницы конверсий включает ноль, а p-значение z-теста больше 0.05. Это означает, что при данных условиях нельзя утверждать, что одна из групп принципиально лучше по этому показателю.\n",
    "\n",
    "Средний чек:\n",
    "По среднему чеку группа B значительно опередила группу A. Статистический t-тест выявил значимые различия (p-значение крайне мало, гораздо меньше 0.05), а доверительные интервалы для среднего чека в группах не пересекаются. Это говорит о том, что средний чек в группе B устойчиво выше, чем в группе A.\n",
    "\n",
    "Ответ на бизнес-вопрос:\n",
    "\n",
    "По показателю конверсии явного победителя нет — статистически значимых различий не обнаружено.\n",
    "По среднему чеку вариант B значительно превосходит вариант A.\n",
    "Исходя из этого, если цель компании — увеличить выручку и получать больше денег с каждой покупки, то более эффективным вариантом будет посадочная страница из группы B. Она приводит к более высокому среднему чеку, что может быть выгодно для компании."
   ]
  }
 ],
 "metadata": {
  "kernelspec": {
   "display_name": "Python 3",
   "language": "python",
   "name": "python3"
  },
  "language_info": {
   "codemirror_mode": {
    "name": "ipython",
    "version": 3
   },
   "file_extension": ".py",
   "mimetype": "text/x-python",
   "name": "python",
   "nbconvert_exporter": "python",
   "pygments_lexer": "ipython3",
   "version": "3.9.10"
  }
 },
 "nbformat": 4,
 "nbformat_minor": 2
}
